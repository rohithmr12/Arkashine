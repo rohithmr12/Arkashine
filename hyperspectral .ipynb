{
 "cells": [
  {
   "cell_type": "code",
   "execution_count": 2,
   "metadata": {},
   "outputs": [
    {
     "name": "stdout",
     "output_type": "stream",
     "text": [
      "PLSR: MSE=18.166896686605675, R2=-27.735965560515407\n",
      "RF: MSE=0.8837170402053014, R2=-0.3978426183985131\n",
      "SVM: MSE=0.5669678575619073, R2=0.10318371321886699\n"
     ]
    },
    {
     "name": "stderr",
     "output_type": "stream",
     "text": [
      "c:\\Users\\rohit\\AppData\\Local\\Programs\\Python\\Python312\\Lib\\site-packages\\sklearn\\neural_network\\_multilayer_perceptron.py:691: ConvergenceWarning: Stochastic Optimizer: Maximum iterations (1000) reached and the optimization hasn't converged yet.\n",
      "  warnings.warn(\n"
     ]
    },
    {
     "name": "stdout",
     "output_type": "stream",
     "text": [
      "ANN: MSE=1.8490852727831288, R2=-1.9248391529813937\n",
      "PLSR: MSE=27.69409895226914, R2=-33.95833009394202\n",
      "RF: MSE=1.1128579848232854, R2=-0.40476340639145136\n",
      "SVM: MSE=0.8448189942393163, R2=-0.06641712088741802\n"
     ]
    },
    {
     "name": "stderr",
     "output_type": "stream",
     "text": [
      "c:\\Users\\rohit\\AppData\\Local\\Programs\\Python\\Python312\\Lib\\site-packages\\sklearn\\neural_network\\_multilayer_perceptron.py:691: ConvergenceWarning: Stochastic Optimizer: Maximum iterations (1000) reached and the optimization hasn't converged yet.\n",
      "  warnings.warn(\n"
     ]
    },
    {
     "name": "stdout",
     "output_type": "stream",
     "text": [
      "ANN: MSE=1.701942803746532, R2=-1.148366640739019\n",
      "PLSR: MSE=946.8075450974433, R2=-1699.1052101498171\n",
      "RF: MSE=1.6416883018306063, R2=-1.9478460008437848\n",
      "SVM: MSE=2.1471739580586506, R2=-2.855505432012399\n"
     ]
    },
    {
     "name": "stderr",
     "output_type": "stream",
     "text": [
      "c:\\Users\\rohit\\AppData\\Local\\Programs\\Python\\Python312\\Lib\\site-packages\\sklearn\\neural_network\\_multilayer_perceptron.py:691: ConvergenceWarning: Stochastic Optimizer: Maximum iterations (1000) reached and the optimization hasn't converged yet.\n",
      "  warnings.warn(\n"
     ]
    },
    {
     "name": "stdout",
     "output_type": "stream",
     "text": [
      "ANN: MSE=2.3895455881695806, R2=-3.2907124318696805\n",
      "PLSR: MSE=42583.65695576856, R2=-68229.90695980853\n",
      "RF: MSE=0.9925738481726073, R2=-0.5903804118032678\n",
      "SVM: MSE=0.6271674251873427, R2=-0.004897307918582783\n"
     ]
    },
    {
     "name": "stderr",
     "output_type": "stream",
     "text": [
      "c:\\Users\\rohit\\AppData\\Local\\Programs\\Python\\Python312\\Lib\\site-packages\\sklearn\\neural_network\\_multilayer_perceptron.py:691: ConvergenceWarning: Stochastic Optimizer: Maximum iterations (1000) reached and the optimization hasn't converged yet.\n",
      "  warnings.warn(\n"
     ]
    },
    {
     "name": "stdout",
     "output_type": "stream",
     "text": [
      "ANN: MSE=2.5957486024629244, R2=-3.159113942930369\n",
      "PLSR: MSE=4.032813882548513, R2=-3.3813714289393824\n",
      "RF: MSE=1.0395665348005851, R2=-0.1294166422523988\n",
      "SVM: MSE=0.803523142352585, R2=0.1270280650367065\n"
     ]
    },
    {
     "name": "stderr",
     "output_type": "stream",
     "text": [
      "c:\\Users\\rohit\\AppData\\Local\\Programs\\Python\\Python312\\Lib\\site-packages\\sklearn\\neural_network\\_multilayer_perceptron.py:691: ConvergenceWarning: Stochastic Optimizer: Maximum iterations (1000) reached and the optimization hasn't converged yet.\n",
      "  warnings.warn(\n"
     ]
    },
    {
     "name": "stdout",
     "output_type": "stream",
     "text": [
      "ANN: MSE=2.0039211260026932, R2=-1.1771207457180775\n",
      "PLSR: MSE=21.525029896271374, R2=-42.56550070547944\n",
      "RF: MSE=0.7123471707740421, R2=-0.4417522911909437\n",
      "SVM: MSE=0.3848702876710573, R2=0.2210432752079029\n"
     ]
    },
    {
     "name": "stderr",
     "output_type": "stream",
     "text": [
      "c:\\Users\\rohit\\AppData\\Local\\Programs\\Python\\Python312\\Lib\\site-packages\\sklearn\\neural_network\\_multilayer_perceptron.py:691: ConvergenceWarning: Stochastic Optimizer: Maximum iterations (1000) reached and the optimization hasn't converged yet.\n",
      "  warnings.warn(\n"
     ]
    },
    {
     "name": "stdout",
     "output_type": "stream",
     "text": [
      "ANN: MSE=1.4754849045007075, R2=-1.9863019451176065\n",
      "PLSR: MSE=6.4421965346137275, R2=-8.650462773403873\n",
      "RF: MSE=1.4449010016328427, R2=-1.1644734451349352\n",
      "SVM: MSE=0.7595970760002673, R2=-0.1378825941339501\n"
     ]
    },
    {
     "name": "stderr",
     "output_type": "stream",
     "text": [
      "c:\\Users\\rohit\\AppData\\Local\\Programs\\Python\\Python312\\Lib\\site-packages\\sklearn\\neural_network\\_multilayer_perceptron.py:691: ConvergenceWarning: Stochastic Optimizer: Maximum iterations (1000) reached and the optimization hasn't converged yet.\n",
      "  warnings.warn(\n"
     ]
    },
    {
     "name": "stdout",
     "output_type": "stream",
     "text": [
      "ANN: MSE=2.5472988450725724, R2=-2.815874375304433\n",
      "PLSR: MSE=3.6327383325503355, R2=-2.1119095597028945\n",
      "RF: MSE=0.8957381302743017, R2=0.23268460444436012\n",
      "SVM: MSE=1.2322832260828216, R2=-0.05560973581504758\n"
     ]
    },
    {
     "name": "stderr",
     "output_type": "stream",
     "text": [
      "c:\\Users\\rohit\\AppData\\Local\\Programs\\Python\\Python312\\Lib\\site-packages\\sklearn\\neural_network\\_multilayer_perceptron.py:691: ConvergenceWarning: Stochastic Optimizer: Maximum iterations (1000) reached and the optimization hasn't converged yet.\n",
      "  warnings.warn(\n"
     ]
    },
    {
     "name": "stdout",
     "output_type": "stream",
     "text": [
      "ANN: MSE=2.6558328968060905, R2=-1.2750638840376172\n",
      "PLSR: MSE=727.5172846603548, R2=-452.21279809634865\n",
      "RF: MSE=2.344507915269452, R2=-0.46053023734599985\n",
      "SVM: MSE=2.2407278383118707, R2=-0.39587959597112454\n",
      "ANN: MSE=2.194040991424435, R2=-0.366795645722398\n",
      "PLSR: MSE=3802.8020196903103, R2=-3708.6563379916006\n",
      "RF: MSE=1.3056242478256554, R2=-0.27364433933281473\n",
      "SVM: MSE=1.4174373917155811, R2=-0.3827187365152924\n",
      "ANN: MSE=1.2473350097087808, R2=-0.21678283550028676\n",
      "PLSR: MSE=958.332566812923, R2=-445.57324889917805\n",
      "RF: MSE=2.6895600313933747, R2=-0.25330767514569885\n",
      "SVM: MSE=2.622781994922141, R2=-0.22218978795832944\n"
     ]
    },
    {
     "name": "stderr",
     "output_type": "stream",
     "text": [
      "c:\\Users\\rohit\\AppData\\Local\\Programs\\Python\\Python312\\Lib\\site-packages\\sklearn\\neural_network\\_multilayer_perceptron.py:691: ConvergenceWarning: Stochastic Optimizer: Maximum iterations (1000) reached and the optimization hasn't converged yet.\n",
      "  warnings.warn(\n"
     ]
    },
    {
     "name": "stdout",
     "output_type": "stream",
     "text": [
      "ANN: MSE=3.400193510241781, R2=-0.5844556632405336\n",
      "PLSR: MSE=20.576601963465038, R2=-99.25901216526286\n",
      "RF: MSE=0.6537921472128855, R2=-2.1855869573292668\n",
      "SVM: MSE=0.4228458989779782, R2=-1.0603067603162977\n"
     ]
    },
    {
     "name": "stderr",
     "output_type": "stream",
     "text": [
      "c:\\Users\\rohit\\AppData\\Local\\Programs\\Python\\Python312\\Lib\\site-packages\\sklearn\\neural_network\\_multilayer_perceptron.py:691: ConvergenceWarning: Stochastic Optimizer: Maximum iterations (1000) reached and the optimization hasn't converged yet.\n",
      "  warnings.warn(\n"
     ]
    },
    {
     "name": "stdout",
     "output_type": "stream",
     "text": [
      "ANN: MSE=4.925912966239672, R2=-23.001395803065023\n",
      "PLSR: MSE=3.08585311137881, R2=-1.6806929113901057\n",
      "RF: MSE=1.1701539056676324, R2=-0.016517367139709638\n",
      "SVM: MSE=1.1325024592416777, R2=0.016190594611763087\n",
      "ANN: MSE=2.5408863671914057, R2=-1.207278126123878\n",
      "Best model for component 0: SVM with MSE=0.5669678575619073\n",
      "Best model for component 1: SVM with MSE=0.8448189942393163\n",
      "Best model for component 2: RF with MSE=1.6416883018306063\n",
      "Best model for component 3: SVM with MSE=0.6271674251873427\n",
      "Best model for component 4: SVM with MSE=0.803523142352585\n",
      "Best model for component 5: SVM with MSE=0.3848702876710573\n",
      "Best model for component 6: SVM with MSE=0.7595970760002673\n",
      "Best model for component 7: RF with MSE=0.8957381302743017\n",
      "Best model for component 8: ANN with MSE=2.194040991424435\n",
      "Best model for component 9: ANN with MSE=1.2473350097087808\n",
      "Best model for component 10: SVM with MSE=2.622781994922141\n",
      "Best model for component 11: SVM with MSE=0.4228458989779782\n",
      "Best model for component 12: SVM with MSE=1.1325024592416777\n"
     ]
    },
    {
     "name": "stderr",
     "output_type": "stream",
     "text": [
      "c:\\Users\\rohit\\AppData\\Local\\Programs\\Python\\Python312\\Lib\\site-packages\\sklearn\\neural_network\\_multilayer_perceptron.py:691: ConvergenceWarning: Stochastic Optimizer: Maximum iterations (1000) reached and the optimization hasn't converged yet.\n",
      "  warnings.warn(\n"
     ]
    }
   ],
   "source": [
    "import numpy as np\n",
    "import pandas as pd\n",
    "from sklearn.model_selection import train_test_split\n",
    "from sklearn.preprocessing import StandardScaler\n",
    "from sklearn.cross_decomposition import PLSRegression\n",
    "from sklearn.ensemble import RandomForestRegressor\n",
    "from sklearn.svm import SVR\n",
    "from sklearn.neural_network import MLPRegressor\n",
    "from sklearn.metrics import mean_squared_error, r2_score\n",
    "from scipy.signal import savgol_filter\n",
    "import joblib\n",
    "\n",
    "# Load dataset\n",
    "features = pd.read_csv('yes.csv')\n",
    "targets = pd.read_csv('yoo.csv')\n",
    "\n",
    "# Preprocess target data\n",
    "targets = targets.drop('Sample Name:', axis=1)\n",
    "targets.fillna(targets.mean(), inplace=True)\n",
    "\n",
    "# Preprocess data function\n",
    "def preprocess_data(features, targets):\n",
    "    X = features.values  # Features\n",
    "    y = targets.values  # Target\n",
    "\n",
    "    # Savitzky-Golay filtering for spectral smoothing\n",
    "    X_smooth = savgol_filter(X, window_length=11, polyorder=2, axis=1)\n",
    "\n",
    "    # Standardize features\n",
    "    X_scaler = StandardScaler()\n",
    "    X_scaled = X_scaler.fit_transform(X_smooth)\n",
    "\n",
    "    # Standardize targets\n",
    "    y_scaler = StandardScaler()\n",
    "    y_scaled = y_scaler.fit_transform(y)\n",
    "\n",
    "    # Band selection using RandomForestRegressor for regression targets\n",
    "    rf = RandomForestRegressor(n_estimators=100, random_state=42)\n",
    "    rf.fit(X_scaled, y_scaled)\n",
    "    importances = rf.feature_importances_\n",
    "    indices = np.argsort(importances)[::-1]\n",
    "\n",
    "    return X_scaled, y_scaled, indices, X_scaler, y_scaler\n",
    "\n",
    "X_scaled, y_scaled, indices, X_scaler, y_scaler = preprocess_data(features, targets)\n",
    "\n",
    "# Function to train and evaluate models for each target component\n",
    "def train_and_evaluate(X, y, top_indices, model_name, model):\n",
    "    X_selected = X[:, top_indices]\n",
    "    X_train, X_test, y_train, y_test = train_test_split(X_selected, y, test_size=0.2, random_state=42)\n",
    "\n",
    "    model.fit(X_train, y_train)\n",
    "    y_pred = model.predict(X_test)\n",
    "\n",
    "    mse = mean_squared_error(y_test, y_pred)\n",
    "    r2 = r2_score(y_test, y_pred)\n",
    "\n",
    "    print(f'{model_name}: MSE={mse}, R2={r2}')\n",
    "\n",
    "    return model, mse\n",
    "\n",
    "# Number of top features to select (for demonstration, top 10)\n",
    "top_k = 10\n",
    "\n",
    "# Initialize models\n",
    "models = {\n",
    "    'PLSR': PLSRegression(n_components=10),\n",
    "    'RF': RandomForestRegressor(n_estimators=100, random_state=42),\n",
    "    'SVM': SVR(),\n",
    "    'ANN': MLPRegressor(hidden_layer_sizes=(100,), max_iter=1000, random_state=42)\n",
    "}\n",
    "\n",
    "# Train each model and find the best one for each target component\n",
    "best_models = []\n",
    "best_scores = []\n",
    "best_model_names = []\n",
    "best_indices_list = []\n",
    "\n",
    "for i in range(y_scaled.shape[1]):\n",
    "    best_model = None\n",
    "    best_score = float('inf')\n",
    "    best_model_name = \"\"\n",
    "    best_indices = None\n",
    "    \n",
    "    for model_name, model in models.items():\n",
    "        selected_indices = indices[:top_k]\n",
    "        trained_model, mse = train_and_evaluate(X_scaled, y_scaled[:, i], selected_indices, model_name, model)\n",
    "        \n",
    "        if mse < best_score:\n",
    "            best_score = mse\n",
    "            best_model = trained_model\n",
    "            best_model_name = model_name\n",
    "            best_indices = selected_indices\n",
    "\n",
    "    best_models.append(best_model)\n",
    "    best_scores.append(best_score)\n",
    "    best_model_names.append(best_model_name)\n",
    "    best_indices_list.append(best_indices)\n",
    "\n",
    "# Save all models and preprocessing details in a single dictionary\n",
    "model_data = {\n",
    "    'models': best_models,\n",
    "    'model_names': best_model_names,\n",
    "    'preprocessing_details': {\n",
    "        'X_scaler': X_scaler,\n",
    "        'y_scaler': y_scaler,\n",
    "        'indices': best_indices_list\n",
    "    }\n",
    "}\n",
    "\n",
    "joblib.dump(model_data, 'model_data.pkl')\n",
    "\n",
    "for i, model_name in enumerate(best_model_names):\n",
    "    print(f'Best model for component {i}: {model_name} with MSE={best_scores[i]}')\n"
   ]
  }
 ],
 "metadata": {
  "kernelspec": {
   "display_name": "Python 3",
   "language": "python",
   "name": "python3"
  },
  "language_info": {
   "codemirror_mode": {
    "name": "ipython",
    "version": 3
   },
   "file_extension": ".py",
   "mimetype": "text/x-python",
   "name": "python",
   "nbconvert_exporter": "python",
   "pygments_lexer": "ipython3",
   "version": "3.12.3"
  }
 },
 "nbformat": 4,
 "nbformat_minor": 2
}
